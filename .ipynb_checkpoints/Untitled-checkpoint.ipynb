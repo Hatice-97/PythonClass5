{
  "cells": [
    {
      "metadata": {
        "trusted": true
      },
      "cell_type": "code",
      "source": "#kütüphanelerin deklerasyonu\nimport pandas as pd\n",
      "execution_count": 26,
      "outputs": []
    },
    {
      "metadata": {
        "trusted": true
      },
      "cell_type": "code",
      "source": "\nimport matplotlib.pyplot as plt\nimport seaborn as sns\nsns.set_style('darkgrid')\nsns.set(font_scale=1.5)",
      "execution_count": 2,
      "outputs": [
        {
          "output_type": "stream",
          "text": "/home/nbuser/anaconda3_501/lib/python3.6/site-packages/matplotlib/font_manager.py:229: UserWarning: Matplotlib is building the font cache using fc-list. This may take a moment.\n  'Matplotlib is building the font cache using fc-list. '\n",
          "name": "stderr"
        }
      ]
    },
    {
      "metadata": {
        "trusted": true
      },
      "cell_type": "code",
      "source": "# veri setinin GitHub’tan alınması\ndf =pd.read_csv('https://raw.githubusercontent.com/LearnDataSci/article-resources/master/Essential%20Statistics/middle_tn_schools.csv')",
      "execution_count": 3,
      "outputs": []
    },
    {
      "metadata": {
        "trusted": true
      },
      "cell_type": "code",
      "source": "print(df)",
      "execution_count": 4,
      "outputs": [
        {
          "output_type": "stream",
          "text": "                                            name  school_rating    size  \\\n0                    Allendale Elementary School            5.0   851.0   \n1                            Anderson Elementary            2.0   412.0   \n2                               Avoca Elementary            4.0   482.0   \n3                                  Bailey Middle            0.0   394.0   \n4                            Barfield Elementary            4.0   948.0   \n5                 Barkers Mill Elementary School            4.0   893.0   \n6                           Barksdale Elementary            4.0   580.0   \n7                               Beech Elementary            5.0   612.0   \n8                       Beech Senior High School            4.0  1274.0   \n9                                Bellevue Middle            3.0   680.0   \n10                          Bellshire Elementary            0.0   539.0   \n11              Benny C. Bills Elementary School            3.0   705.0   \n12                          Black Fox Elementary            3.0   830.0   \n13                    Blackman Elementary School            5.0   880.0   \n14                          Blackman High School            4.0  2021.0   \n15                        Blackman Middle School            4.0  1212.0   \n16                         Bluff City Elementary            2.0   489.0   \n17                      Bluff City Middle School            3.0   361.0   \n18                    Boones Creek Middle School            4.0   310.0   \n19   Bradley Academy - An Arts Integrated School            1.0   453.0   \n20                         Brentwood High School            5.0  1689.0   \n21                       Brentwood Middle School            5.0  1261.0   \n22              Brown's Chapel Elementary School            4.0   694.0   \n23                           Buchanan Elementary            4.0   460.0   \n24                        Buena Vista Elementary            0.0   365.0   \n25                        Byars Dowdy Elementary            3.0   616.0   \n26                     Byrns L Darden Elementary            2.0   631.0   \n27                           Caldwell Elementary            0.0   279.0   \n28                   Cameron College Preparatory            0.0   587.0   \n29                             Carmel Elementary            5.0   583.0   \n..                                           ...            ...     ...   \n317                      Walton Ferry Elementary            4.0   461.0   \n318                            Warner Elementary            0.0   351.0   \n319                        Washington Elementary            4.0   449.0   \n320                           Watauga Elementary            4.0   392.0   \n321                         Watertown Elementary            2.0   611.0   \n322                        Watertown High School            3.0   408.0   \n323                     Watt Hardison Elementary            2.0   489.0   \n324                            Weaver Elementary            2.0   283.0   \n325                 West Creek Elementary School            4.0   638.0   \n326                       West Creek High School            3.0  1315.0   \n327                     West Creek Middle School            4.0  1049.0   \n328                              West Elementary            4.0   645.0   \n329                              West End Middle            3.0   494.0   \n330                    West Wilson Middle School            4.0  1153.0   \n331                         Westmeade Elementary            2.0   537.0   \n332                   Westwood Elementary School            4.0   550.0   \n333       White House Heritage Elementary School            4.0   646.0   \n334             White House Heritage High School            3.0   979.0   \n335                      White House High School            3.0   891.0   \n336                    White House Middle School            4.0   799.0   \n337                     Whitthorne Middle School            1.0   948.0   \n338             Whitworth-Buchanan Middle School            3.0   851.0   \n339                  William Henry Oliver Middle            2.0   739.0   \n340                   Wilson Central High School            3.0  1823.0   \n341                     Wilson Elementary School            4.0   800.0   \n342                 Winfree Bryant Middle School            3.0   611.0   \n343                   Winstead Elementary School            5.0   515.0   \n344                          Woodland Elementary            4.0   424.0   \n345                       Woodland Middle School            5.0   866.0   \n346                                Wright Middle            0.0   829.0   \n\n     reduced_lunch  state_percentile_16  state_percentile_15  stu_teach_ratio  \\\n0             10.0                 90.2                 95.8             15.7   \n1             71.0                 32.8                 37.3             12.8   \n2             43.0                 78.4                 83.6             16.6   \n3             91.0                  1.6                  1.0             13.1   \n4             26.0                 85.3                 89.2             14.8   \n5             48.0                 78.1                 76.4             13.9   \n6             58.0                 83.2                 74.6             13.8   \n7             16.0                 95.2                 93.4             15.6   \n8             21.0                 82.5                 77.9             14.9   \n9             50.0                 53.0                 55.5             16.5   \n10            75.0                  3.5                  2.9             14.5   \n11            67.0                 64.6                 63.8             13.0   \n12            72.0                 52.1                 62.8             13.8   \n13            25.0                 92.4                 90.3             14.4   \n14            25.0                 84.8                 66.2             17.4   \n15            30.0                 87.2                 87.1             16.8   \n16            66.0                 36.0                 54.1             14.3   \n17            63.0                 59.3                 59.2             15.0   \n18            61.0                 81.4                 92.4             14.7   \n19            84.0                 11.3                 13.9             11.6   \n20             4.0                 96.3                 97.3             18.7   \n21             3.0                 98.0                 98.2             18.5   \n22            37.0                 88.2                 82.5             14.7   \n23            44.0                 82.2                 83.9             13.1   \n24            81.0                  1.3                  0.8             13.5   \n25            70.0                 51.9                 55.5             13.6   \n26            74.0                 45.3                 18.7             11.6   \n27            83.0                  7.5                  3.9             10.7   \n28            90.0                  7.7                 16.0             13.9   \n29            21.0                 93.7                  NaN             14.9   \n..             ...                  ...                  ...              ...   \n317           33.0                 86.9                 81.3             14.4   \n318           91.0                  1.1                  3.3             11.7   \n319           48.0                 81.0                 88.4             15.4   \n320           44.0                 72.1                 35.0             15.0   \n321           50.0                 46.8                 52.6             13.8   \n322           41.0                 51.1                 27.8             13.1   \n323           54.0                 30.0                 34.4             13.9   \n324           65.0                 34.9                 44.3             14.8   \n325           46.0                 79.6                 64.8             13.8   \n326           41.0                 62.4                 59.5             18.0   \n327           46.0                 77.5                 59.0             17.4   \n328           24.0                 82.1                 79.5             16.1   \n329           51.0                 51.4                 70.7             15.4   \n330           30.0                 80.2                 78.9             19.8   \n331           61.0                 32.0                 29.2             16.2   \n332           40.0                 77.3                 87.4             14.1   \n333           34.0                 80.0                 80.6             17.4   \n334           25.0                 50.6                 67.2             18.1   \n335           29.0                 67.8                 64.2             15.9   \n336           33.0                 84.0                 76.4             15.0   \n337           65.0                 26.3                 26.8             17.2   \n338           60.0                 50.4                 53.7             14.6   \n339           57.0                 45.5                 49.6             16.7   \n340           24.0                 55.7                 63.2             17.8   \n341           25.0                 84.6                 89.0             14.5   \n342           57.0                 59.1                 65.2             16.9   \n343            8.0                 93.9                 97.0             14.3   \n344           55.0                 84.8                 76.7             14.1   \n345            2.0                 93.3                 97.1             19.2   \n346           89.0                  4.5                  1.2             16.5   \n\n        school_type  avg_score_15  avg_score_16  full_time_teachers  \\\n0            Public          89.4          85.2                54.0   \n1            Public          43.0          38.3                32.0   \n2            Public          75.7          73.0                29.0   \n3     Public Magnet           2.1           4.4                30.0   \n4            Public          81.3          79.6                64.0   \n5            Public          69.4          72.3                64.0   \n6            Public          68.0          76.1                42.0   \n7            Public          85.9          90.3                39.0   \n8            Public          67.2          69.3                85.0   \n9     Public Magnet          55.8          53.3                41.0   \n10    Public Magnet           6.3           8.3                37.0   \n11           Public          59.9          60.6                54.0   \n12           Public          58.8          50.5                60.0   \n13           Public          82.5          87.0                61.0   \n14           Public          62.1          72.5               116.0   \n15           Public          77.2          78.3                72.0   \n16           Public          53.2          41.0                34.0   \n17           Public          58.1          57.4                24.0   \n18           Public          82.2          72.8                21.0   \n19           Public          22.2          17.3                39.0   \n20           Public          89.8          87.6                90.0   \n21           Public          91.1          91.7                68.0   \n22           Public          74.7          82.8                47.0   \n23           Public          76.0          75.1                35.0   \n24    Public Magnet           1.7           4.5                27.0   \n25           Public          54.5          50.5                45.0   \n26           Public          26.8          46.3                54.0   \n27    Public Magnet           7.9          12.6                26.0   \n28   Public Charter          25.8          13.2                42.0   \n29           Public           NaN          89.0                39.0   \n..              ...           ...           ...                 ...   \n317          Public          73.6          81.8                32.0   \n318   Public Magnet           7.2           2.8                30.0   \n319          Public          80.6          74.2                29.0   \n320          Public          41.8          67.1                26.0   \n321          Public          52.7          48.0                44.0   \n322          Public          38.6          48.7                31.0   \n323          Public          41.0          36.0                35.0   \n324          Public          47.6          39.7                19.0   \n325          Public          60.8          73.1                46.0   \n326          Public          58.9          57.0                73.0   \n327          Public          57.9          71.2                60.0   \n328          Public          71.5          75.0                40.0   \n329   Public Magnet          64.9          53.1                32.0   \n330          Public          70.7          72.8                58.0   \n331          Public          37.6          37.6                33.0   \n332          Public          79.6          72.3                39.0   \n333          Public          73.1          73.6                37.0   \n334          Public          62.5          48.1                54.0   \n335          Public          61.1          59.7                56.0   \n336          Public          69.1          74.7                53.0   \n337          Public          37.0          35.0                55.0   \n338          Public          53.8          51.4                58.0   \n339          Public          51.8          47.9                44.0   \n340          Public          60.8          51.9               102.0   \n341          Public          81.3          79.3                55.0   \n342          Public          61.4          57.7                36.0   \n343          Public          92.0          89.3                36.0   \n344          Public          69.4          79.4                30.0   \n345          Public          89.8          84.9                45.0   \n346          Public           2.7           9.6                50.0   \n\n     percent_black  percent_white  percent_asian  percent_hispanic  \n0              2.9           85.5            1.6               5.6  \n1              3.9           86.7            1.0               4.9  \n2              1.0           91.5            1.2               4.4  \n3             80.7           11.7            2.3               4.3  \n4             11.8           71.2            7.1               6.0  \n5             28.6           39.9            2.2              17.8  \n6             27.4           59.5            0.5               6.6  \n7              4.2           90.5            0.3               3.1  \n8             13.8           79.7            1.4               3.7  \n9             24.3           61.8            5.6               6.6  \n10            83.7            8.7            0.4               5.4  \n11            26.0           58.0            0.3              12.9  \n12            29.4           36.5            7.3              19.2  \n13            17.0           67.3            6.9               5.7  \n14            19.6           67.7            5.2               5.8  \n15            14.6           73.2            4.8               5.7  \n16             0.0           96.3            0.0               1.4  \n17             1.1           97.5            0.0               0.0  \n18             0.6           94.8            0.6               2.9  \n19            37.3           23.8            1.1              29.6  \n20             3.1           83.8            6.9               3.6  \n21             3.2           83.3            6.7               2.8  \n22             9.9           79.0            2.4               5.5  \n23             2.8           84.6            5.7               4.8  \n24            93.4            1.1            0.3               1.4  \n25            12.8           57.3            3.1              24.5  \n26            32.8           40.3            0.3              18.4  \n27            92.5            3.6            0.0               2.5  \n28            23.2           25.2            1.9              49.6  \n29             3.4           79.6            1.9               8.9  \n..             ...            ...            ...               ...  \n317           10.0           83.1            0.9               4.6  \n318           89.7            5.1            0.6               2.0  \n319            5.8           86.9            4.7               1.3  \n320            0.8           90.8            0.3               4.3  \n321            0.7           92.6            0.3               2.6  \n322            1.7           91.9            0.5               1.0  \n323            2.9           78.9            0.6              14.3  \n324            1.4           95.4            0.0               2.1  \n325           28.8           43.4            1.7              15.4  \n326           36.2           37.8            1.8              15.8  \n327           34.3           35.7            1.7              17.9  \n328            0.8           87.0            1.4               5.1  \n329           39.1           50.6            3.6               5.5  \n330            0.7           83.1            3.4               4.2  \n331           21.6           55.3            6.3              11.4  \n332            2.7           89.1            0.9               4.0  \n333            2.6           90.2            1.9               3.3  \n334            2.7           91.4            1.3               3.1  \n335            2.2           92.0            0.7               4.3  \n336            2.5           91.4            1.6               4.0  \n337           22.4           61.7            1.7              14.1  \n338           23.4           54.6            5.6              12.7  \n339           26.9           51.3           11.0              10.1  \n340            2.5           84.9            1.8               4.2  \n341            5.5           86.4            2.6               4.0  \n342           15.2           66.3            1.5              15.7  \n343            3.3           87.4            3.1               4.1  \n344           11.6           70.5            2.1               9.7  \n345            4.5           77.6           10.0               4.4  \n346           22.3           21.0            6.6              49.5  \n\n[347 rows x 15 columns]\n",
          "name": "stdout"
        }
      ]
    },
    {
      "metadata": {
        "trusted": true
      },
      "cell_type": "code",
      "source": "print(df.columns)",
      "execution_count": 7,
      "outputs": [
        {
          "output_type": "stream",
          "text": "Index(['name', 'school_rating', 'size', 'reduced_lunch', 'state_percentile_16',\n       'state_percentile_15', 'stu_teach_ratio', 'school_type', 'avg_score_15',\n       'avg_score_16', 'full_time_teachers', 'percent_black', 'percent_white',\n       'percent_asian', 'percent_hispanic'],\n      dtype='object')\n",
          "name": "stdout"
        }
      ]
    },
    {
      "metadata": {
        "trusted": true
      },
      "cell_type": "code",
      "source": "print(df.iloc[5])",
      "execution_count": 7,
      "outputs": [
        {
          "output_type": "stream",
          "text": "name                   Barkers Mill Elementary School\nschool_rating                                       4\nsize                                              893\nreduced_lunch                                      48\nstate_percentile_16                              78.1\nstate_percentile_15                              76.4\nstu_teach_ratio                                  13.9\nschool_type                                    Public\navg_score_15                                     69.4\navg_score_16                                     72.3\nfull_time_teachers                                 64\npercent_black                                    28.6\npercent_white                                    39.9\npercent_asian                                     2.2\npercent_hispanic                                 17.8\nName: 5, dtype: object\n",
          "name": "stdout"
        }
      ]
    },
    {
      "metadata": {
        "trusted": true
      },
      "cell_type": "code",
      "source": "print(df.iloc[0])",
      "execution_count": 8,
      "outputs": [
        {
          "output_type": "stream",
          "text": "name                   Allendale Elementary School\nschool_rating                                    5\nsize                                           851\nreduced_lunch                                   10\nstate_percentile_16                           90.2\nstate_percentile_15                           95.8\nstu_teach_ratio                               15.7\nschool_type                                 Public\navg_score_15                                  89.4\navg_score_16                                  85.2\nfull_time_teachers                              54\npercent_black                                  2.9\npercent_white                                 85.5\npercent_asian                                  1.6\npercent_hispanic                               5.6\nName: 0, dtype: object\n",
          "name": "stdout"
        }
      ]
    },
    {
      "metadata": {
        "trusted": true
      },
      "cell_type": "code",
      "source": "print(df.index)",
      "execution_count": 8,
      "outputs": [
        {
          "output_type": "stream",
          "text": "RangeIndex(start=0, stop=347, step=1)\n",
          "name": "stdout"
        }
      ]
    },
    {
      "metadata": {
        "trusted": true
      },
      "cell_type": "code",
      "source": "df[['reduced_lunch','school_rating']].groupby(['school_rating'])",
      "execution_count": 12,
      "outputs": [
        {
          "output_type": "execute_result",
          "execution_count": 12,
          "data": {
            "text/plain": "<pandas.core.groupby.groupby.DataFrameGroupBy object at 0x7f59d7affc50>"
          },
          "metadata": {}
        }
      ]
    },
    {
      "metadata": {
        "trusted": true
      },
      "cell_type": "code",
      "source": "df[['reduced_lunch','school_rating']].corr()",
      "execution_count": 13,
      "outputs": [
        {
          "output_type": "execute_result",
          "execution_count": 13,
          "data": {
            "text/html": "<div>\n<style scoped>\n    .dataframe tbody tr th:only-of-type {\n        vertical-align: middle;\n    }\n\n    .dataframe tbody tr th {\n        vertical-align: top;\n    }\n\n    .dataframe thead th {\n        text-align: right;\n    }\n</style>\n<table border=\"1\" class=\"dataframe\">\n  <thead>\n    <tr style=\"text-align: right;\">\n      <th></th>\n      <th>reduced_lunch</th>\n      <th>school_rating</th>\n    </tr>\n  </thead>\n  <tbody>\n    <tr>\n      <th>reduced_lunch</th>\n      <td>1.000000</td>\n      <td>-0.815757</td>\n    </tr>\n    <tr>\n      <th>school_rating</th>\n      <td>-0.815757</td>\n      <td>1.000000</td>\n    </tr>\n  </tbody>\n</table>\n</div>",
            "text/plain": "               reduced_lunch  school_rating\nreduced_lunch       1.000000      -0.815757\nschool_rating      -0.815757       1.000000"
          },
          "metadata": {}
        }
      ]
    },
    {
      "metadata": {
        "trusted": true
      },
      "cell_type": "code",
      "source": "print(df['percent_black'])",
      "execution_count": 17,
      "outputs": [
        {
          "output_type": "stream",
          "text": "0       2.9\n1       3.9\n2       1.0\n3      80.7\n4      11.8\n5      28.6\n6      27.4\n7       4.2\n8      13.8\n9      24.3\n10     83.7\n11     26.0\n12     29.4\n13     17.0\n14     19.6\n15     14.6\n16      0.0\n17      1.1\n18      0.6\n19     37.3\n20      3.1\n21      3.2\n22      9.9\n23      2.8\n24     93.4\n25     12.8\n26     32.8\n27     92.5\n28     23.2\n29      3.4\n       ... \n317    10.0\n318    89.7\n319     5.8\n320     0.8\n321     0.7\n322     1.7\n323     2.9\n324     1.4\n325    28.8\n326    36.2\n327    34.3\n328     0.8\n329    39.1\n330     0.7\n331    21.6\n332     2.7\n333     2.6\n334     2.7\n335     2.2\n336     2.5\n337    22.4\n338    23.4\n339    26.9\n340     2.5\n341     5.5\n342    15.2\n343     3.3\n344    11.6\n345     4.5\n346    22.3\nName: percent_black, Length: 347, dtype: float64\n",
          "name": "stdout"
        }
      ]
    },
    {
      "metadata": {
        "trusted": true
      },
      "cell_type": "code",
      "source": "print(df[df.school_rating>3][['name','school_type']])",
      "execution_count": 24,
      "outputs": [
        {
          "output_type": "stream",
          "text": "                                                  name     school_type\n0                          Allendale Elementary School          Public\n2                                     Avoca Elementary          Public\n4                                  Barfield Elementary          Public\n5                       Barkers Mill Elementary School          Public\n6                                 Barksdale Elementary          Public\n7                                     Beech Elementary          Public\n8                             Beech Senior High School          Public\n13                          Blackman Elementary School          Public\n14                                Blackman High School          Public\n15                              Blackman Middle School          Public\n18                          Boones Creek Middle School          Public\n20                               Brentwood High School          Public\n21                             Brentwood Middle School          Public\n22                    Brown's Chapel Elementary School          Public\n23                                 Buchanan Elementary          Public\n29                                   Carmel Elementary          Public\n33                           Castle Heights Elementary          Public\n34                               Centennial Elementary          Public\n35                              Centennial High School          Public\n37                        Chapman's Retreat Elementary          Public\n39                                 Cherokee Elementary          Public\n40                             Clarksville High School          Public\n41                       Clovercroft Elementary School          Public\n45                             Colonial Heights Middle          Public\n47                              Crieve Hall Elementary          Public\n48                                 Crockett Elementary          Public\n51                       Cumberland Heights Elementary          Public\n55                               Dickson Middle School          Public\n56                                    Discovery School   Public Magnet\n57                               Dobyns - Bennett High          Public\n..                                                 ...             ...\n292                               Sunset Middle School          Public\n294                         T. W. Hunter Middle School          Public\n295                              Tennessee High School          Public\n296                     Tennessee Online Public School  Public Virtual\n297                               The Discovery School          Public\n298  The Middle College @ Austin Peay State University          Public\n299                                      Thomas Magnet   Public Magnet\n301                             Towne Acres Elementary          Public\n302                                 Trinity Elementary          Public\n303                        Trousdale County Elementary          Public\n304                       Trousdale County High School          Public\n309                            Union Elementary School          Public\n311                                Vance Middle School          Public\n313                              W A Wright Elementary          Public\n314                            Walnut Grove Elementary          Public\n315                             Walter Hill Elementary          Public\n317                            Walton Ferry Elementary          Public\n319                              Washington Elementary          Public\n320                                 Watauga Elementary          Public\n325                       West Creek Elementary School          Public\n327                           West Creek Middle School          Public\n328                                    West Elementary          Public\n330                          West Wilson Middle School          Public\n332                         Westwood Elementary School          Public\n333             White House Heritage Elementary School          Public\n336                          White House Middle School          Public\n341                           Wilson Elementary School          Public\n343                         Winstead Elementary School          Public\n344                                Woodland Elementary          Public\n345                             Woodland Middle School          Public\n\n[164 rows x 2 columns]\n",
          "name": "stdout"
        }
      ]
    },
    {
      "metadata": {
        "trusted": true
      },
      "cell_type": "code",
      "source": "print(df['school_rating'])",
      "execution_count": 9,
      "outputs": [
        {
          "output_type": "stream",
          "text": "0      5.0\n1      2.0\n2      4.0\n3      0.0\n4      4.0\n5      4.0\n6      4.0\n7      5.0\n8      4.0\n9      3.0\n10     0.0\n11     3.0\n12     3.0\n13     5.0\n14     4.0\n15     4.0\n16     2.0\n17     3.0\n18     4.0\n19     1.0\n20     5.0\n21     5.0\n22     4.0\n23     4.0\n24     0.0\n25     3.0\n26     2.0\n27     0.0\n28     0.0\n29     5.0\n      ... \n317    4.0\n318    0.0\n319    4.0\n320    4.0\n321    2.0\n322    3.0\n323    2.0\n324    2.0\n325    4.0\n326    3.0\n327    4.0\n328    4.0\n329    3.0\n330    4.0\n331    2.0\n332    4.0\n333    4.0\n334    3.0\n335    3.0\n336    4.0\n337    1.0\n338    3.0\n339    2.0\n340    3.0\n341    4.0\n342    3.0\n343    5.0\n344    4.0\n345    5.0\n346    0.0\nName: school_rating, Length: 347, dtype: float64\n",
          "name": "stdout"
        }
      ]
    },
    {
      "metadata": {
        "trusted": true
      },
      "cell_type": "code",
      "source": "import pandas as pd\n\npd.__version__\n",
      "execution_count": 31,
      "outputs": [
        {
          "output_type": "execute_result",
          "execution_count": 31,
          "data": {
            "text/plain": "'0.23.4'"
          },
          "metadata": {}
        }
      ]
    },
    {
      "metadata": {
        "trusted": true
      },
      "cell_type": "code",
      "source": "print(df.iloc[342])",
      "execution_count": 10,
      "outputs": [
        {
          "output_type": "stream",
          "text": "name                   Winfree Bryant Middle School\nschool_rating                                     3\nsize                                            611\nreduced_lunch                                    57\nstate_percentile_16                            59.1\nstate_percentile_15                            65.2\nstu_teach_ratio                                16.9\nschool_type                                  Public\navg_score_15                                   61.4\navg_score_16                                   57.7\nfull_time_teachers                               36\npercent_black                                  15.2\npercent_white                                  66.3\npercent_asian                                   1.5\npercent_hispanic                               15.7\nName: 342, dtype: object\n",
          "name": "stdout"
        }
      ]
    },
    {
      "metadata": {
        "trusted": true
      },
      "cell_type": "code",
      "source": "df.count()",
      "execution_count": 35,
      "outputs": [
        {
          "output_type": "execute_result",
          "execution_count": 35,
          "data": {
            "text/plain": "name                   347\nschool_rating          347\nsize                   347\nreduced_lunch          347\nstate_percentile_16    347\nstate_percentile_15    341\nstu_teach_ratio        347\nschool_type            347\navg_score_15           341\navg_score_16           347\nfull_time_teachers     347\npercent_black          347\npercent_white          347\npercent_asian          347\npercent_hispanic       347\ndtype: int64"
          },
          "metadata": {}
        }
      ]
    },
    {
      "metadata": {
        "trusted": true
      },
      "cell_type": "code",
      "source": "",
      "execution_count": null,
      "outputs": []
    },
    {
      "metadata": {
        "trusted": true
      },
      "cell_type": "code",
      "source": "import sys\nsys.version",
      "execution_count": 34,
      "outputs": [
        {
          "output_type": "execute_result",
          "execution_count": 34,
          "data": {
            "text/plain": "'3.6.6 |Anaconda, Inc.| (default, Jun 28 2018, 17:14:51) \\n[GCC 7.2.0]'"
          },
          "metadata": {}
        }
      ]
    },
    {
      "metadata": {
        "trusted": true
      },
      "cell_type": "code",
      "source": "print(df[df.school_rating>3][['name','school_type']])",
      "execution_count": 11,
      "outputs": [
        {
          "output_type": "stream",
          "text": "                                                  name     school_type\n0                          Allendale Elementary School          Public\n2                                     Avoca Elementary          Public\n4                                  Barfield Elementary          Public\n5                       Barkers Mill Elementary School          Public\n6                                 Barksdale Elementary          Public\n7                                     Beech Elementary          Public\n8                             Beech Senior High School          Public\n13                          Blackman Elementary School          Public\n14                                Blackman High School          Public\n15                              Blackman Middle School          Public\n18                          Boones Creek Middle School          Public\n20                               Brentwood High School          Public\n21                             Brentwood Middle School          Public\n22                    Brown's Chapel Elementary School          Public\n23                                 Buchanan Elementary          Public\n29                                   Carmel Elementary          Public\n33                           Castle Heights Elementary          Public\n34                               Centennial Elementary          Public\n35                              Centennial High School          Public\n37                        Chapman's Retreat Elementary          Public\n39                                 Cherokee Elementary          Public\n40                             Clarksville High School          Public\n41                       Clovercroft Elementary School          Public\n45                             Colonial Heights Middle          Public\n47                              Crieve Hall Elementary          Public\n48                                 Crockett Elementary          Public\n51                       Cumberland Heights Elementary          Public\n55                               Dickson Middle School          Public\n56                                    Discovery School   Public Magnet\n57                               Dobyns - Bennett High          Public\n..                                                 ...             ...\n292                               Sunset Middle School          Public\n294                         T. W. Hunter Middle School          Public\n295                              Tennessee High School          Public\n296                     Tennessee Online Public School  Public Virtual\n297                               The Discovery School          Public\n298  The Middle College @ Austin Peay State University          Public\n299                                      Thomas Magnet   Public Magnet\n301                             Towne Acres Elementary          Public\n302                                 Trinity Elementary          Public\n303                        Trousdale County Elementary          Public\n304                       Trousdale County High School          Public\n309                            Union Elementary School          Public\n311                                Vance Middle School          Public\n313                              W A Wright Elementary          Public\n314                            Walnut Grove Elementary          Public\n315                             Walter Hill Elementary          Public\n317                            Walton Ferry Elementary          Public\n319                              Washington Elementary          Public\n320                                 Watauga Elementary          Public\n325                       West Creek Elementary School          Public\n327                           West Creek Middle School          Public\n328                                    West Elementary          Public\n330                          West Wilson Middle School          Public\n332                         Westwood Elementary School          Public\n333             White House Heritage Elementary School          Public\n336                          White House Middle School          Public\n341                           Wilson Elementary School          Public\n343                         Winstead Elementary School          Public\n344                                Woodland Elementary          Public\n345                             Woodland Middle School          Public\n\n[164 rows x 2 columns]\n",
          "name": "stdout"
        }
      ]
    },
    {
      "metadata": {
        "trusted": true
      },
      "cell_type": "code",
      "source": "print(df[df.school_rating>=4][['school_rating','name','school_type']])",
      "execution_count": 12,
      "outputs": [
        {
          "output_type": "stream",
          "text": "     school_rating                                               name  \\\n0              5.0                        Allendale Elementary School   \n2              4.0                                   Avoca Elementary   \n4              4.0                                Barfield Elementary   \n5              4.0                     Barkers Mill Elementary School   \n6              4.0                               Barksdale Elementary   \n7              5.0                                   Beech Elementary   \n8              4.0                           Beech Senior High School   \n13             5.0                         Blackman Elementary School   \n14             4.0                               Blackman High School   \n15             4.0                             Blackman Middle School   \n18             4.0                         Boones Creek Middle School   \n20             5.0                              Brentwood High School   \n21             5.0                            Brentwood Middle School   \n22             4.0                   Brown's Chapel Elementary School   \n23             4.0                                Buchanan Elementary   \n29             5.0                                  Carmel Elementary   \n33             4.0                          Castle Heights Elementary   \n34             4.0                              Centennial Elementary   \n35             4.0                             Centennial High School   \n37             4.0                       Chapman's Retreat Elementary   \n39             4.0                                Cherokee Elementary   \n40             4.0                            Clarksville High School   \n41             5.0                      Clovercroft Elementary School   \n45             4.0                            Colonial Heights Middle   \n47             5.0                             Crieve Hall Elementary   \n48             5.0                                Crockett Elementary   \n51             4.0                      Cumberland Heights Elementary   \n55             4.0                              Dickson Middle School   \n56             5.0                                   Discovery School   \n57             5.0                              Dobyns - Bennett High   \n..             ...                                                ...   \n292            5.0                               Sunset Middle School   \n294            5.0                         T. W. Hunter Middle School   \n295            4.0                              Tennessee High School   \n296            5.0                     Tennessee Online Public School   \n297            5.0                               The Discovery School   \n298            5.0  The Middle College @ Austin Peay State University   \n299            5.0                                      Thomas Magnet   \n301            5.0                             Towne Acres Elementary   \n302            5.0                                 Trinity Elementary   \n303            4.0                        Trousdale County Elementary   \n304            4.0                       Trousdale County High School   \n309            5.0                            Union Elementary School   \n311            4.0                                Vance Middle School   \n313            4.0                              W A Wright Elementary   \n314            5.0                            Walnut Grove Elementary   \n315            4.0                             Walter Hill Elementary   \n317            4.0                            Walton Ferry Elementary   \n319            4.0                              Washington Elementary   \n320            4.0                                 Watauga Elementary   \n325            4.0                       West Creek Elementary School   \n327            4.0                           West Creek Middle School   \n328            4.0                                    West Elementary   \n330            4.0                          West Wilson Middle School   \n332            4.0                         Westwood Elementary School   \n333            4.0             White House Heritage Elementary School   \n336            4.0                          White House Middle School   \n341            4.0                           Wilson Elementary School   \n343            5.0                         Winstead Elementary School   \n344            4.0                                Woodland Elementary   \n345            5.0                             Woodland Middle School   \n\n        school_type  \n0            Public  \n2            Public  \n4            Public  \n5            Public  \n6            Public  \n7            Public  \n8            Public  \n13           Public  \n14           Public  \n15           Public  \n18           Public  \n20           Public  \n21           Public  \n22           Public  \n23           Public  \n29           Public  \n33           Public  \n34           Public  \n35           Public  \n37           Public  \n39           Public  \n40           Public  \n41           Public  \n45           Public  \n47           Public  \n48           Public  \n51           Public  \n55           Public  \n56    Public Magnet  \n57           Public  \n..              ...  \n292          Public  \n294          Public  \n295          Public  \n296  Public Virtual  \n297          Public  \n298          Public  \n299   Public Magnet  \n301          Public  \n302          Public  \n303          Public  \n304          Public  \n309          Public  \n311          Public  \n313          Public  \n314          Public  \n315          Public  \n317          Public  \n319          Public  \n320          Public  \n325          Public  \n327          Public  \n328          Public  \n330          Public  \n332          Public  \n333          Public  \n336          Public  \n341          Public  \n343          Public  \n344          Public  \n345          Public  \n\n[164 rows x 3 columns]\n",
          "name": "stdout"
        }
      ]
    },
    {
      "metadata": {
        "trusted": true
      },
      "cell_type": "code",
      "source": "print(df.head())",
      "execution_count": 13,
      "outputs": [
        {
          "output_type": "stream",
          "text": "                          name  school_rating   size  reduced_lunch  \\\n0  Allendale Elementary School            5.0  851.0           10.0   \n1          Anderson Elementary            2.0  412.0           71.0   \n2             Avoca Elementary            4.0  482.0           43.0   \n3                Bailey Middle            0.0  394.0           91.0   \n4          Barfield Elementary            4.0  948.0           26.0   \n\n   state_percentile_16  state_percentile_15  stu_teach_ratio    school_type  \\\n0                 90.2                 95.8             15.7         Public   \n1                 32.8                 37.3             12.8         Public   \n2                 78.4                 83.6             16.6         Public   \n3                  1.6                  1.0             13.1  Public Magnet   \n4                 85.3                 89.2             14.8         Public   \n\n   avg_score_15  avg_score_16  full_time_teachers  percent_black  \\\n0          89.4          85.2                54.0            2.9   \n1          43.0          38.3                32.0            3.9   \n2          75.7          73.0                29.0            1.0   \n3           2.1           4.4                30.0           80.7   \n4          81.3          79.6                64.0           11.8   \n\n   percent_white  percent_asian  percent_hispanic  \n0           85.5            1.6               5.6  \n1           86.7            1.0               4.9  \n2           91.5            1.2               4.4  \n3           11.7            2.3               4.3  \n4           71.2            7.1               6.0  \n",
          "name": "stdout"
        }
      ]
    },
    {
      "metadata": {
        "trusted": true
      },
      "cell_type": "code",
      "source": "print(df.tail())",
      "execution_count": 14,
      "outputs": [
        {
          "output_type": "stream",
          "text": "                             name  school_rating   size  reduced_lunch  \\\n342  Winfree Bryant Middle School            3.0  611.0           57.0   \n343    Winstead Elementary School            5.0  515.0            8.0   \n344           Woodland Elementary            4.0  424.0           55.0   \n345        Woodland Middle School            5.0  866.0            2.0   \n346                 Wright Middle            0.0  829.0           89.0   \n\n     state_percentile_16  state_percentile_15  stu_teach_ratio school_type  \\\n342                 59.1                 65.2             16.9      Public   \n343                 93.9                 97.0             14.3      Public   \n344                 84.8                 76.7             14.1      Public   \n345                 93.3                 97.1             19.2      Public   \n346                  4.5                  1.2             16.5      Public   \n\n     avg_score_15  avg_score_16  full_time_teachers  percent_black  \\\n342          61.4          57.7                36.0           15.2   \n343          92.0          89.3                36.0            3.3   \n344          69.4          79.4                30.0           11.6   \n345          89.8          84.9                45.0            4.5   \n346           2.7           9.6                50.0           22.3   \n\n     percent_white  percent_asian  percent_hispanic  \n342           66.3            1.5              15.7  \n343           87.4            3.1               4.1  \n344           70.5            2.1               9.7  \n345           77.6           10.0               4.4  \n346           21.0            6.6              49.5  \n",
          "name": "stdout"
        }
      ]
    },
    {
      "metadata": {
        "trusted": true
      },
      "cell_type": "code",
      "source": "print(df.info())\n\n\n",
      "execution_count": 15,
      "outputs": [
        {
          "output_type": "stream",
          "text": "<class 'pandas.core.frame.DataFrame'>\nRangeIndex: 347 entries, 0 to 346\nData columns (total 15 columns):\nname                   347 non-null object\nschool_rating          347 non-null float64\nsize                   347 non-null float64\nreduced_lunch          347 non-null float64\nstate_percentile_16    347 non-null float64\nstate_percentile_15    341 non-null float64\nstu_teach_ratio        347 non-null float64\nschool_type            347 non-null object\navg_score_15           341 non-null float64\navg_score_16           347 non-null float64\nfull_time_teachers     347 non-null float64\npercent_black          347 non-null float64\npercent_white          347 non-null float64\npercent_asian          347 non-null float64\npercent_hispanic       347 non-null float64\ndtypes: float64(13), object(2)\nmemory usage: 40.7+ KB\nNone\n",
          "name": "stdout"
        }
      ]
    },
    {
      "metadata": {
        "trusted": true
      },
      "cell_type": "code",
      "source": "df.describe()",
      "execution_count": 17,
      "outputs": [
        {
          "output_type": "execute_result",
          "execution_count": 17,
          "data": {
            "text/html": "<div>\n<style scoped>\n    .dataframe tbody tr th:only-of-type {\n        vertical-align: middle;\n    }\n\n    .dataframe tbody tr th {\n        vertical-align: top;\n    }\n\n    .dataframe thead th {\n        text-align: right;\n    }\n</style>\n<table border=\"1\" class=\"dataframe\">\n  <thead>\n    <tr style=\"text-align: right;\">\n      <th></th>\n      <th>school_rating</th>\n      <th>size</th>\n      <th>reduced_lunch</th>\n      <th>state_percentile_16</th>\n      <th>state_percentile_15</th>\n      <th>stu_teach_ratio</th>\n      <th>avg_score_15</th>\n      <th>avg_score_16</th>\n      <th>full_time_teachers</th>\n      <th>percent_black</th>\n      <th>percent_white</th>\n      <th>percent_asian</th>\n      <th>percent_hispanic</th>\n    </tr>\n  </thead>\n  <tbody>\n    <tr>\n      <th>count</th>\n      <td>347.000000</td>\n      <td>347.000000</td>\n      <td>347.000000</td>\n      <td>347.000000</td>\n      <td>341.000000</td>\n      <td>347.000000</td>\n      <td>341.000000</td>\n      <td>347.000000</td>\n      <td>347.000000</td>\n      <td>347.000000</td>\n      <td>347.000000</td>\n      <td>347.000000</td>\n      <td>347.000000</td>\n    </tr>\n    <tr>\n      <th>mean</th>\n      <td>2.968300</td>\n      <td>699.472622</td>\n      <td>50.279539</td>\n      <td>58.801729</td>\n      <td>58.249267</td>\n      <td>15.461671</td>\n      <td>57.004692</td>\n      <td>57.049856</td>\n      <td>44.939481</td>\n      <td>21.197983</td>\n      <td>61.673487</td>\n      <td>2.642651</td>\n      <td>11.164553</td>\n    </tr>\n    <tr>\n      <th>std</th>\n      <td>1.690377</td>\n      <td>400.598636</td>\n      <td>25.480236</td>\n      <td>32.540747</td>\n      <td>32.702630</td>\n      <td>5.725170</td>\n      <td>26.696450</td>\n      <td>27.968974</td>\n      <td>22.053386</td>\n      <td>23.562538</td>\n      <td>27.274859</td>\n      <td>3.109629</td>\n      <td>12.030608</td>\n    </tr>\n    <tr>\n      <th>min</th>\n      <td>0.000000</td>\n      <td>53.000000</td>\n      <td>2.000000</td>\n      <td>0.200000</td>\n      <td>0.600000</td>\n      <td>4.700000</td>\n      <td>1.500000</td>\n      <td>0.100000</td>\n      <td>2.000000</td>\n      <td>0.000000</td>\n      <td>1.100000</td>\n      <td>0.000000</td>\n      <td>0.000000</td>\n    </tr>\n    <tr>\n      <th>25%</th>\n      <td>2.000000</td>\n      <td>420.500000</td>\n      <td>30.000000</td>\n      <td>30.950000</td>\n      <td>27.100000</td>\n      <td>13.700000</td>\n      <td>37.600000</td>\n      <td>37.000000</td>\n      <td>30.000000</td>\n      <td>3.600000</td>\n      <td>40.600000</td>\n      <td>0.750000</td>\n      <td>3.800000</td>\n    </tr>\n    <tr>\n      <th>50%</th>\n      <td>3.000000</td>\n      <td>595.000000</td>\n      <td>51.000000</td>\n      <td>66.400000</td>\n      <td>65.800000</td>\n      <td>15.000000</td>\n      <td>61.800000</td>\n      <td>60.700000</td>\n      <td>40.000000</td>\n      <td>13.500000</td>\n      <td>68.700000</td>\n      <td>1.600000</td>\n      <td>6.400000</td>\n    </tr>\n    <tr>\n      <th>75%</th>\n      <td>4.000000</td>\n      <td>851.000000</td>\n      <td>71.500000</td>\n      <td>88.000000</td>\n      <td>88.600000</td>\n      <td>16.700000</td>\n      <td>79.600000</td>\n      <td>80.250000</td>\n      <td>54.000000</td>\n      <td>28.350000</td>\n      <td>85.950000</td>\n      <td>3.100000</td>\n      <td>13.800000</td>\n    </tr>\n    <tr>\n      <th>max</th>\n      <td>5.000000</td>\n      <td>2314.000000</td>\n      <td>98.000000</td>\n      <td>99.800000</td>\n      <td>99.800000</td>\n      <td>111.000000</td>\n      <td>99.000000</td>\n      <td>98.900000</td>\n      <td>140.000000</td>\n      <td>97.400000</td>\n      <td>99.700000</td>\n      <td>21.100000</td>\n      <td>65.200000</td>\n    </tr>\n  </tbody>\n</table>\n</div>",
            "text/plain": "       school_rating         size  reduced_lunch  state_percentile_16  \\\ncount     347.000000   347.000000     347.000000           347.000000   \nmean        2.968300   699.472622      50.279539            58.801729   \nstd         1.690377   400.598636      25.480236            32.540747   \nmin         0.000000    53.000000       2.000000             0.200000   \n25%         2.000000   420.500000      30.000000            30.950000   \n50%         3.000000   595.000000      51.000000            66.400000   \n75%         4.000000   851.000000      71.500000            88.000000   \nmax         5.000000  2314.000000      98.000000            99.800000   \n\n       state_percentile_15  stu_teach_ratio  avg_score_15  avg_score_16  \\\ncount           341.000000       347.000000    341.000000    347.000000   \nmean             58.249267        15.461671     57.004692     57.049856   \nstd              32.702630         5.725170     26.696450     27.968974   \nmin               0.600000         4.700000      1.500000      0.100000   \n25%              27.100000        13.700000     37.600000     37.000000   \n50%              65.800000        15.000000     61.800000     60.700000   \n75%              88.600000        16.700000     79.600000     80.250000   \nmax              99.800000       111.000000     99.000000     98.900000   \n\n       full_time_teachers  percent_black  percent_white  percent_asian  \\\ncount          347.000000     347.000000     347.000000     347.000000   \nmean            44.939481      21.197983      61.673487       2.642651   \nstd             22.053386      23.562538      27.274859       3.109629   \nmin              2.000000       0.000000       1.100000       0.000000   \n25%             30.000000       3.600000      40.600000       0.750000   \n50%             40.000000      13.500000      68.700000       1.600000   \n75%             54.000000      28.350000      85.950000       3.100000   \nmax            140.000000      97.400000      99.700000      21.100000   \n\n       percent_hispanic  \ncount        347.000000  \nmean          11.164553  \nstd           12.030608  \nmin            0.000000  \n25%            3.800000  \n50%            6.400000  \n75%           13.800000  \nmax           65.200000  "
          },
          "metadata": {}
        }
      ]
    },
    {
      "metadata": {
        "trusted": true
      },
      "cell_type": "code",
      "source": "df[['reduced_lunch','school_rating']].groupby(['school_rating']).describe()",
      "execution_count": 18,
      "outputs": [
        {
          "output_type": "execute_result",
          "execution_count": 18,
          "data": {
            "text/html": "<div>\n<style scoped>\n    .dataframe tbody tr th:only-of-type {\n        vertical-align: middle;\n    }\n\n    .dataframe tbody tr th {\n        vertical-align: top;\n    }\n\n    .dataframe thead tr th {\n        text-align: left;\n    }\n\n    .dataframe thead tr:last-of-type th {\n        text-align: right;\n    }\n</style>\n<table border=\"1\" class=\"dataframe\">\n  <thead>\n    <tr>\n      <th></th>\n      <th colspan=\"8\" halign=\"left\">reduced_lunch</th>\n    </tr>\n    <tr>\n      <th></th>\n      <th>count</th>\n      <th>mean</th>\n      <th>std</th>\n      <th>min</th>\n      <th>25%</th>\n      <th>50%</th>\n      <th>75%</th>\n      <th>max</th>\n    </tr>\n    <tr>\n      <th>school_rating</th>\n      <th></th>\n      <th></th>\n      <th></th>\n      <th></th>\n      <th></th>\n      <th></th>\n      <th></th>\n      <th></th>\n    </tr>\n  </thead>\n  <tbody>\n    <tr>\n      <th>0.0</th>\n      <td>43.0</td>\n      <td>83.581395</td>\n      <td>8.813498</td>\n      <td>53.0</td>\n      <td>79.50</td>\n      <td>86.0</td>\n      <td>90.00</td>\n      <td>98.0</td>\n    </tr>\n    <tr>\n      <th>1.0</th>\n      <td>40.0</td>\n      <td>74.950000</td>\n      <td>11.644191</td>\n      <td>53.0</td>\n      <td>65.00</td>\n      <td>74.5</td>\n      <td>84.25</td>\n      <td>98.0</td>\n    </tr>\n    <tr>\n      <th>2.0</th>\n      <td>44.0</td>\n      <td>64.272727</td>\n      <td>11.956051</td>\n      <td>37.0</td>\n      <td>54.75</td>\n      <td>62.5</td>\n      <td>74.00</td>\n      <td>88.0</td>\n    </tr>\n    <tr>\n      <th>3.0</th>\n      <td>56.0</td>\n      <td>50.285714</td>\n      <td>13.550866</td>\n      <td>24.0</td>\n      <td>41.00</td>\n      <td>48.5</td>\n      <td>63.00</td>\n      <td>78.0</td>\n    </tr>\n    <tr>\n      <th>4.0</th>\n      <td>86.0</td>\n      <td>41.000000</td>\n      <td>16.681092</td>\n      <td>4.0</td>\n      <td>30.00</td>\n      <td>41.5</td>\n      <td>50.00</td>\n      <td>87.0</td>\n    </tr>\n    <tr>\n      <th>5.0</th>\n      <td>78.0</td>\n      <td>21.602564</td>\n      <td>17.651268</td>\n      <td>2.0</td>\n      <td>8.00</td>\n      <td>19.0</td>\n      <td>29.75</td>\n      <td>87.0</td>\n    </tr>\n  </tbody>\n</table>\n</div>",
            "text/plain": "              reduced_lunch                                                  \\\n                      count       mean        std   min    25%   50%    75%   \nschool_rating                                                                 \n0.0                    43.0  83.581395   8.813498  53.0  79.50  86.0  90.00   \n1.0                    40.0  74.950000  11.644191  53.0  65.00  74.5  84.25   \n2.0                    44.0  64.272727  11.956051  37.0  54.75  62.5  74.00   \n3.0                    56.0  50.285714  13.550866  24.0  41.00  48.5  63.00   \n4.0                    86.0  41.000000  16.681092   4.0  30.00  41.5  50.00   \n5.0                    78.0  21.602564  17.651268   2.0   8.00  19.0  29.75   \n\n                     \n                max  \nschool_rating        \n0.0            98.0  \n1.0            98.0  \n2.0            88.0  \n3.0            78.0  \n4.0            87.0  \n5.0            87.0  "
          },
          "metadata": {}
        }
      ]
    },
    {
      "metadata": {
        "trusted": true
      },
      "cell_type": "code",
      "source": "df[['reduced_lunch','school_rating']].corr()",
      "execution_count": 19,
      "outputs": [
        {
          "output_type": "execute_result",
          "execution_count": 19,
          "data": {
            "text/html": "<div>\n<style scoped>\n    .dataframe tbody tr th:only-of-type {\n        vertical-align: middle;\n    }\n\n    .dataframe tbody tr th {\n        vertical-align: top;\n    }\n\n    .dataframe thead th {\n        text-align: right;\n    }\n</style>\n<table border=\"1\" class=\"dataframe\">\n  <thead>\n    <tr style=\"text-align: right;\">\n      <th></th>\n      <th>reduced_lunch</th>\n      <th>school_rating</th>\n    </tr>\n  </thead>\n  <tbody>\n    <tr>\n      <th>reduced_lunch</th>\n      <td>1.000000</td>\n      <td>-0.815757</td>\n    </tr>\n    <tr>\n      <th>school_rating</th>\n      <td>-0.815757</td>\n      <td>1.000000</td>\n    </tr>\n  </tbody>\n</table>\n</div>",
            "text/plain": "               reduced_lunch  school_rating\nreduced_lunch       1.000000      -0.815757\nschool_rating      -0.815757       1.000000"
          },
          "metadata": {}
        }
      ]
    },
    {
      "metadata": {
        "trusted": true
      },
      "cell_type": "code",
      "source": "fig, ax = plt.subplots(figsize=(14,8))\nax.set_ylabel('school_rating')\n# boxplot with only these two variables\n_ = df[['reduced_lunch',\n'school_rating']].boxplot(by='school_rating',\nfigsize=(13,8), vert=False, sym='b.', ax=ax)",
      "execution_count": 20,
      "outputs": [
        {
          "output_type": "display_data",
          "data": {
            "image/png": "[encoded data removed]",
            "text/plain": "<Figure size 1008x576 with 1 Axes>"
          },
          "metadata": {
            "needs_background": "light"
          }
        }
      ]
    },
    {
      "metadata": {
        "trusted": true
      },
      "cell_type": "code",
      "source": "",
      "execution_count": null,
      "outputs": []
    }
  ],
  "metadata": {
    "kernelspec": {
      "name": "python36",
      "display_name": "Python 3.6",
      "language": "python"
    },
    "language_info": {
      "mimetype": "text/x-python",
      "nbconvert_exporter": "python",
      "name": "python",
      "pygments_lexer": "ipython3",
      "version": "3.6.6",
      "file_extension": ".py",
      "codemirror_mode": {
        "version": 3,
        "name": "ipython"
      }
    }
  },
  "nbformat": 4,
  "nbformat_minor": 1
}